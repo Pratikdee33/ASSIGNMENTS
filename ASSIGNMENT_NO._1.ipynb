{
 "cells": [
  {
   "cell_type": "code",
   "execution_count": 1,
   "id": "0820a561",
   "metadata": {},
   "outputs": [],
   "source": [
    "#ASSIGNMENT NUMBER : 1"
   ]
  },
  {
   "cell_type": "code",
   "execution_count": null,
   "id": "ba78b579",
   "metadata": {},
   "outputs": [],
   "source": [
    "#QUESTION 1\n",
    "s=\"this is my first python programming class and i am learning python string and its function\""
   ]
  },
  {
   "cell_type": "code",
   "execution_count": 2,
   "id": "ebd1a05c",
   "metadata": {},
   "outputs": [
    {
     "data": {
      "text/plain": [
       "'tssyityopgmncsa alrnph rgni ni'"
      ]
     },
     "execution_count": 2,
     "metadata": {},
     "output_type": "execute_result"
    }
   ],
   "source": [
    "s[0:300:3]"
   ]
  },
  {
   "cell_type": "code",
   "execution_count": 3,
   "id": "cb3882ef",
   "metadata": {},
   "outputs": [
    {
     "data": {
      "text/plain": [
       "'noitcnuf sti dna gnirts nohtyp gninrael ma i dna ssalc gnimmargorp nohtyp tsrif ym si siht'"
      ]
     },
     "execution_count": 3,
     "metadata": {},
     "output_type": "execute_result"
    }
   ],
   "source": [
    "#QUESTION 2\n",
    "s[::-1]"
   ]
  },
  {
   "cell_type": "code",
   "execution_count": 4,
   "id": "b638a6d7",
   "metadata": {},
   "outputs": [
    {
     "data": {
      "text/plain": [
       "['this',\n",
       " 'is',\n",
       " 'my',\n",
       " 'first',\n",
       " 'python',\n",
       " 'programming',\n",
       " 'class',\n",
       " 'and',\n",
       " 'i',\n",
       " 'am',\n",
       " 'learning',\n",
       " 'python',\n",
       " 'string',\n",
       " 'and',\n",
       " 'its',\n",
       " 'function']"
      ]
     },
     "execution_count": 4,
     "metadata": {},
     "output_type": "execute_result"
    }
   ],
   "source": [
    "#QUESTION 3\n",
    "s.upper()\n",
    "s.split()"
   ]
  },
  {
   "cell_type": "code",
   "execution_count": 5,
   "id": "a549b667",
   "metadata": {},
   "outputs": [
    {
     "data": {
      "text/plain": [
       "'this is my first python programming class and i am learning python string and its function'"
      ]
     },
     "execution_count": 5,
     "metadata": {},
     "output_type": "execute_result"
    }
   ],
   "source": [
    "#QUESTION 5\n",
    "s.lower()"
   ]
  },
  {
   "cell_type": "code",
   "execution_count": 6,
   "id": "abcbf53a",
   "metadata": {},
   "outputs": [
    {
     "data": {
      "text/plain": [
       "'This is my first python programming class and i am learning python string and its function'"
      ]
     },
     "execution_count": 6,
     "metadata": {},
     "output_type": "execute_result"
    }
   ],
   "source": [
    "#QUESTION 6\n",
    "s.capitalize()"
   ]
  },
  {
   "cell_type": "code",
   "execution_count": 8,
   "id": "c38a5732",
   "metadata": {},
   "outputs": [],
   "source": [
    "#QUESTION 7\n",
    "#Difference between isalnum and isalpha\n",
    "p=\"Pratik\""
   ]
  },
  {
   "cell_type": "code",
   "execution_count": 9,
   "id": "6dd9a9dc",
   "metadata": {},
   "outputs": [
    {
     "data": {
      "text/plain": [
       "True"
      ]
     },
     "execution_count": 9,
     "metadata": {},
     "output_type": "execute_result"
    }
   ],
   "source": [
    "p.isalpha()\n",
    "#Both alpha and alnum valid for alphabetical letter\n",
    "#alpha not validate for alphabetical and numeric string"
   ]
  },
  {
   "cell_type": "code",
   "execution_count": 11,
   "id": "63545424",
   "metadata": {},
   "outputs": [],
   "source": [
    "p1=\"pratik123\""
   ]
  },
  {
   "cell_type": "code",
   "execution_count": 17,
   "id": "13eda528",
   "metadata": {},
   "outputs": [
    {
     "data": {
      "text/plain": [
       "True"
      ]
     },
     "execution_count": 17,
     "metadata": {},
     "output_type": "execute_result"
    }
   ],
   "source": [
    "p1.isalnum()"
   ]
  },
  {
   "cell_type": "code",
   "execution_count": 18,
   "id": "4c4630a8",
   "metadata": {},
   "outputs": [
    {
     "data": {
      "text/plain": [
       "False"
      ]
     },
     "execution_count": 18,
     "metadata": {},
     "output_type": "execute_result"
    }
   ],
   "source": [
    "p1.isalpha()"
   ]
  },
  {
   "cell_type": "code",
   "execution_count": 35,
   "id": "a2a39881",
   "metadata": {},
   "outputs": [],
   "source": [
    "#QUESTION 7\n",
    "E=\"PRATIK\\6454\\BHOYAR\\31\""
   ]
  },
  {
   "cell_type": "code",
   "execution_count": 36,
   "id": "08b5f58a",
   "metadata": {},
   "outputs": [
    {
     "data": {
      "text/plain": [
       "'PRATIKƥ4\\\\BHOYAR\\x19'"
      ]
     },
     "execution_count": 36,
     "metadata": {},
     "output_type": "execute_result"
    }
   ],
   "source": [
    "E.expandtabs()"
   ]
  },
  {
   "cell_type": "code",
   "execution_count": 38,
   "id": "1ce4c606",
   "metadata": {},
   "outputs": [],
   "source": [
    "#QUESTION 8\n",
    "s=\"   pratik   \""
   ]
  },
  {
   "cell_type": "code",
   "execution_count": 40,
   "id": "3d7e8ab3",
   "metadata": {},
   "outputs": [
    {
     "data": {
      "text/plain": [
       "'pratik'"
      ]
     },
     "execution_count": 40,
     "metadata": {},
     "output_type": "execute_result"
    }
   ],
   "source": [
    "s.strip()"
   ]
  },
  {
   "cell_type": "code",
   "execution_count": 41,
   "id": "fec433e9",
   "metadata": {},
   "outputs": [
    {
     "data": {
      "text/plain": [
       "'pratik   '"
      ]
     },
     "execution_count": 41,
     "metadata": {},
     "output_type": "execute_result"
    }
   ],
   "source": [
    "s.lstrip()"
   ]
  },
  {
   "cell_type": "code",
   "execution_count": 42,
   "id": "cd954fad",
   "metadata": {},
   "outputs": [
    {
     "data": {
      "text/plain": [
       "'   pratik'"
      ]
     },
     "execution_count": 42,
     "metadata": {},
     "output_type": "execute_result"
    }
   ],
   "source": [
    "s.rstrip()"
   ]
  },
  {
   "cell_type": "code",
   "execution_count": 43,
   "id": "f6c83a52",
   "metadata": {},
   "outputs": [],
   "source": [
    "#QUESTION 9\n",
    "r=\"pratik bhoyar\""
   ]
  },
  {
   "cell_type": "code",
   "execution_count": 44,
   "id": "edf8512d",
   "metadata": {},
   "outputs": [
    {
     "data": {
      "text/plain": [
       "'pratik pratik'"
      ]
     },
     "execution_count": 44,
     "metadata": {},
     "output_type": "execute_result"
    }
   ],
   "source": [
    "r.replace(\"bhoyar\",\"pratik\")"
   ]
  },
  {
   "cell_type": "code",
   "execution_count": 45,
   "id": "3da93711",
   "metadata": {},
   "outputs": [],
   "source": [
    "#QUESTION 10\n",
    "c=\"pratik\""
   ]
  },
  {
   "cell_type": "code",
   "execution_count": 49,
   "id": "44a87b41",
   "metadata": {},
   "outputs": [
    {
     "data": {
      "text/plain": [
       "'*****pratik*****'"
      ]
     },
     "execution_count": 49,
     "metadata": {},
     "output_type": "execute_result"
    }
   ],
   "source": [
    "c.center(16,\"*\")"
   ]
  },
  {
   "cell_type": "code",
   "execution_count": 50,
   "id": "32be7b7e",
   "metadata": {},
   "outputs": [
    {
     "data": {
      "text/plain": [
       "'           pratik           '"
      ]
     },
     "execution_count": 50,
     "metadata": {},
     "output_type": "execute_result"
    }
   ],
   "source": [
    "c.center(28)"
   ]
  },
  {
   "cell_type": "code",
   "execution_count": 51,
   "id": "f4ab115d",
   "metadata": {},
   "outputs": [],
   "source": [
    "#QUESTION 11\n",
    "#Defination of compiler and interpretor\n",
    "#compiler-A compiler is a software that converts the source code to the object code. In other words, we can say that it converts the high-level language to machine/binary language. Moreover, it processes whole program.\n",
    "#interpretor-interpretor works on line by line so overall it takes time while execution"
   ]
  },
  {
   "cell_type": "code",
   "execution_count": null,
   "id": "705cd03d",
   "metadata": {},
   "outputs": [],
   "source": [
    "#QUESTION 12\n",
    "#Application building\n",
    "#Image scraping\n",
    "#web scraping\n",
    "#game\n",
    "#Robotics"
   ]
  }
 ],
 "metadata": {
  "kernelspec": {
   "display_name": "Python 3 (ipykernel)",
   "language": "python",
   "name": "python3"
  },
  "language_info": {
   "codemirror_mode": {
    "name": "ipython",
    "version": 3
   },
   "file_extension": ".py",
   "mimetype": "text/x-python",
   "name": "python",
   "nbconvert_exporter": "python",
   "pygments_lexer": "ipython3",
   "version": "3.9.12"
  }
 },
 "nbformat": 4,
 "nbformat_minor": 5
}
